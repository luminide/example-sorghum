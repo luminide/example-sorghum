{
 "cells": [
  {
   "cell_type": "code",
   "execution_count": null,
   "id": "bd553cb0",
   "metadata": {},
   "outputs": [],
   "source": [
    "import numpy as np\n",
    "import pandas as pd\n",
    "import seaborn as sns\n",
    "from matplotlib import pyplot as plt\n",
    "from util import get_class_names\n",
    "\n",
    "input_dir = '../input'\n",
    "df = pd.read_csv(f'{input_dir}/train_cultivar_mapping.csv', dtype=str)\n",
    "class_names = get_class_names(df)\n",
    "df.head()"
   ]
  },
  {
   "cell_type": "code",
   "execution_count": null,
   "id": "0683f0e4",
   "metadata": {},
   "outputs": [],
   "source": [
    "dist = df['cultivar'].value_counts()\n",
    "fig = plt.figure(figsize=(16, 24))\n",
    "sns.barplot(y=dist.sort_values(ascending=False).index, x=dist.sort_values(ascending=False).values, palette='Reds')\n",
    "plt.title('Label Distribution')\n",
    "plt.show()"
   ]
  },
  {
   "cell_type": "markdown",
   "id": "82a3388c-65cd-470e-8f1f-4d486cd62293",
   "metadata": {},
   "source": [
    "### Sample images"
   ]
  },
  {
   "cell_type": "code",
   "execution_count": null,
   "id": "b8326b8b",
   "metadata": {},
   "outputs": [],
   "source": [
    "import os\n",
    "import cv2\n",
    "\n",
    "# display this many samples for each class\n",
    "count = 3\n",
    "for name in class_names:\n",
    "    fig = plt.figure(figsize=(20, 20))\n",
    "    ax = fig.subplots(1, count)\n",
    "    df_cls = df[df['cultivar'] == name].iloc[:count]\n",
    "    for i, filename in enumerate(df_cls['image']):\n",
    "        filename = f'{filename[:-4]}_0.jpg'\n",
    "        im = cv2.imread(f'{input_dir}/train_images/{filename}')\n",
    "        im = cv2.cvtColor(im, cv2.COLOR_BGR2RGB)\n",
    "        ax[i].imshow(im)\n",
    "        ax[i].set_title(name)\n",
    "plt.show()"
   ]
  }
 ],
 "metadata": {
  "kernelspec": {
   "display_name": "Python 3 (ipykernel)",
   "language": "python",
   "name": "python3"
  },
  "language_info": {
   "codemirror_mode": {
    "name": "ipython",
    "version": 3
   },
   "file_extension": ".py",
   "mimetype": "text/x-python",
   "name": "python",
   "nbconvert_exporter": "python",
   "pygments_lexer": "ipython3",
   "version": "3.8.10"
  }
 },
 "nbformat": 4,
 "nbformat_minor": 5
}
